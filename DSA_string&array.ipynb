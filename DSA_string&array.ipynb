{
  "nbformat": 4,
  "nbformat_minor": 0,
  "metadata": {
    "colab": {
      "provenance": [],
      "authorship_tag": "ABX9TyPZu083EZu2gWOnRHv4ZML5",
      "include_colab_link": true
    },
    "kernelspec": {
      "name": "python3",
      "display_name": "Python 3"
    },
    "language_info": {
      "name": "python"
    }
  },
  "cells": [
    {
      "cell_type": "markdown",
      "metadata": {
        "id": "view-in-github",
        "colab_type": "text"
      },
      "source": [
        "<a href=\"https://colab.research.google.com/github/Btere/Coding_challenge/blob/main/DSA_string%26array.ipynb\" target=\"_parent\"><img src=\"https://colab.research.google.com/assets/colab-badge.svg\" alt=\"Open In Colab\"/></a>"
      ]
    },
    {
      "cell_type": "markdown",
      "source": [
        "When you write a code logic Bunmi, there are certain infor you need:\n",
        "\n",
        "1. What is the input?\n",
        "2. What is/are the output of the logic, the dtype?\n",
        "3. What are the constrain that i need to work with?\n",
        "\n",
        "Check Special Cases Early in the Code (Input Validation)\n",
        "\n",
        "When you get this rihgt, the first thing you want to write in the code logic is input validation( meaning the cases where that condition or constraint in not meant).\n",
        "\n",
        "\n",
        "This is particularly important when the special case would cause the logic to break, produce incorrect results, or result in an error.\n",
        "\n",
        "\n"
      ],
      "metadata": {
        "id": "1hK354yfutF5"
      }
    },
    {
      "cell_type": "code",
      "execution_count": 2,
      "metadata": {
        "colab": {
          "base_uri": "https://localhost:8080/"
        },
        "id": "88kxG-BqUS3d",
        "outputId": "79633f0e-03c6-4f7b-dd35-78d51e01583f"
      },
      "outputs": [
        {
          "output_type": "stream",
          "name": "stdout",
          "text": [
            "0 h\n",
            "1 e\n",
            "2 l\n",
            "3 l\n",
            "4 o\n",
            "5  \n",
            "6 w\n",
            "7 o\n",
            "8 r\n",
            "9 l\n",
            "10 d\n"
          ]
        }
      ],
      "source": [
        "mytext = \"hello world\"\n",
        "for i in range(len(mytext)):\n",
        "  print(i, mytext[i])"
      ]
    },
    {
      "cell_type": "markdown",
      "source": [
        "Implement an algorithm to determine if a string has all unique characters. What if you cannot use additional data structures?"
      ],
      "metadata": {
        "id": "8SdKOdsfaUvk"
      }
    },
    {
      "cell_type": "code",
      "source": [
        "def unique_chara(mytext: str)-> bool:\n",
        "  \"\"\"we check if a string has all unique characters(without duplicates)\n",
        "\n",
        "    args: mytext: str\n",
        "    return: bool\n",
        "  \"\"\"\n",
        "  for i in range(len(mytext)):\n",
        "    for j in range(i+1, len(mytext)):\n",
        "      if mytext[i] == mytext[j]:\n",
        "        return True\n",
        "  return False"
      ],
      "metadata": {
        "id": "uTQ0In1vaWH9"
      },
      "execution_count": 3,
      "outputs": []
    },
    {
      "cell_type": "code",
      "source": [
        "mystr = input(\"enter a string: \")\n",
        "print(unique_chara(mystr))"
      ],
      "metadata": {
        "colab": {
          "base_uri": "https://localhost:8080/"
        },
        "id": "OrSSUbDEjWJe",
        "outputId": "e0d0a5d0-0a8f-4b5b-fd31-e11bea2d709d"
      },
      "execution_count": 4,
      "outputs": [
        {
          "output_type": "stream",
          "name": "stdout",
          "text": [
            "enter a string: the is a good\n",
            "True\n"
          ]
        }
      ]
    },
    {
      "cell_type": "markdown",
      "source": [
        "Given two strings,write a method to decide if one is a permutation of the\n",
        "other.\n",
        "\n",
        "\n",
        "A permutation of a string is a rearrangement of its characters to create different sequences. It involves changing the order of characters while retaining all the original characters. For example, permutations of \"ABC\" include \"ABC,\" \"ACB,\" \"BAC,\" \"BCA,\" \"CAB,\" and \"CBA.\" Permutations are often computed recursively or iteratively, generating all possible orders of the characters in the given string."
      ],
      "metadata": {
        "id": "CQzAgGQMjHgc"
      }
    },
    {
      "cell_type": "code",
      "source": [
        "#you need to verify that both strings contain the same characters in the same frequencies\n",
        "\n",
        "def are_permutations(str1: str, str2: str) -> bool:\n",
        "    # If the lengths of the strings are not equal, they cannot be permutations\n",
        "    if len(str1) != len(str2):\n",
        "        return False\n",
        "\n",
        "    # Create a dictionary to count characters in str1\n",
        "    char_count = {}\n",
        "    for char in str1:\n",
        "        if char in char_count:\n",
        "            char_count[char] += 1\n",
        "        else:\n",
        "            char_count[char] = 1\n",
        "\n",
        "    # Decrement the count based on characters in str2\n",
        "    for char in str2:\n",
        "        if char not in char_count:\n",
        "            return False\n",
        "        char_count[char] -= 1\n",
        "        if char_count[char] < 0:\n",
        "            return False\n",
        "\n",
        "    return True\n",
        "\n",
        "# Test examples\n",
        "print(are_permutations(\"abc\", \"bca\"))\n",
        "print(are_permutations(\"abc\", \"abcd\"))\n",
        "print(are_permutations(\"abc\", \"def\"))\n"
      ],
      "metadata": {
        "colab": {
          "base_uri": "https://localhost:8080/"
        },
        "id": "Do2ElxnZjFxF",
        "outputId": "284084ac-b8dd-4c1f-8440-1a2a5bf5908a"
      },
      "execution_count": 5,
      "outputs": [
        {
          "output_type": "stream",
          "name": "stdout",
          "text": [
            "True\n",
            "False\n",
            "False\n"
          ]
        }
      ]
    },
    {
      "cell_type": "markdown",
      "source": [
        "Write a method to replace all spaces in a string with '%20'. You may assume that the string has sufficient space at the end to hold the additional characters,and that you are given the \"true\" length of the string. (Note: If implementing in Java,please use a character array so that you can perform this operation in place.)"
      ],
      "metadata": {
        "id": "m7MJKacKtlO_"
      }
    },
    {
      "cell_type": "code",
      "source": [
        "def replace_spaces(mystr: str, true_length: int) -> str:\n",
        "  return mystr.replace(\" \", \"%20\")"
      ],
      "metadata": {
        "id": "lf_FNkv4tkzE"
      },
      "execution_count": 6,
      "outputs": []
    },
    {
      "cell_type": "code",
      "source": [
        "input_str = \"Mr John Smith    \"\n",
        "true_length = 13\n",
        "replace_spaces(input_str, 13)"
      ],
      "metadata": {
        "colab": {
          "base_uri": "https://localhost:8080/",
          "height": 35
        },
        "id": "v993BLjqtkwg",
        "outputId": "d01fe6e9-99bb-4d04-9991-7990b1df37ae"
      },
      "execution_count": 7,
      "outputs": [
        {
          "output_type": "execute_result",
          "data": {
            "text/plain": [
              "'Mr%20John%20Smith%20%20%20%20'"
            ],
            "application/vnd.google.colaboratory.intrinsic+json": {
              "type": "string"
            }
          },
          "metadata": {},
          "execution_count": 7
        }
      ]
    },
    {
      "cell_type": "code",
      "source": [
        "def replace_spaces_2(mystr: str, empty_space: int) -> str:\n",
        "  mylist = list(mystr)\n",
        "\n",
        "  count = 0\n",
        "  for i in range(empty_space):\n",
        "    if mylist[i] == \" \":\n",
        "      count += 1\n",
        "\n",
        "    #calculate the newlength of the string now\n",
        "    string_new_length = empty_space + count * 2\n",
        "\n",
        "    mylist.extend([''] * (string_new_length - len(mylist)))\n",
        "\n",
        "    j = string_new_length - 1\n",
        "    for i in range(empty_space - 1, -1, -1):\n",
        "        if mylist[i] == ' ':\n",
        "            mylist[j] = '0'\n",
        "            mylist[j - 1] = '2'\n",
        "            mylist[j - 2] = '%'\n",
        "            j -= 3\n",
        "        else:\n",
        "            mylist[j] = mylist[i]\n",
        "            j -= 1\n",
        "\n",
        "    # Convert the list back to a string and return\n",
        "    return ''.join(mylist)\n",
        "\n"
      ],
      "metadata": {
        "id": "z6D1lA3htktp"
      },
      "execution_count": 8,
      "outputs": []
    },
    {
      "cell_type": "code",
      "source": [
        "the_string = \"please do not laptop\"\n",
        "empty_space = 34\n",
        "result = replace_spaces_2(the_string, empty_space)\n",
        "print(result)\n"
      ],
      "metadata": {
        "colab": {
          "base_uri": "https://localhost:8080/"
        },
        "id": "6Jgog9x1tkpv",
        "outputId": "979e1d26-290b-468d-fe52-9776adc65637"
      },
      "execution_count": 9,
      "outputs": [
        {
          "output_type": "stream",
          "name": "stdout",
          "text": [
            "2%2%2%2%2%2%20laptop2%\n"
          ]
        }
      ]
    },
    {
      "cell_type": "code",
      "source": [
        "def replace_spaces_2(mystr: str, true_length: int) -> str:\n",
        "\n",
        "    mylist = list(mystr)\n",
        "\n",
        "\n",
        "    count = 0\n",
        "    for i in range(true_length):\n",
        "        if mylist[i] == ' ':\n",
        "            count += 1\n",
        "\n",
        "    # Calculate the new length of the string\n",
        "    string_new_length = true_length + count * 2\n",
        "\n",
        "    # Ensure the list has sufficient space for the new characters\n",
        "    if string_new_length > len(mylist):\n",
        "        mylist.extend([''] * (string_new_length - len(mylist)))\n",
        "\n",
        "    # Modify the string in place from the end\n",
        "    j = string_new_length - 1\n",
        "    for i in range(true_length - 1, -1, -1):\n",
        "        if mylist[i] == ' ':\n",
        "            mylist[j] = '0'\n",
        "            mylist[j - 1] = '2'\n",
        "            mylist[j - 2] = '%'\n",
        "            j -= 3\n",
        "        else:\n",
        "            mylist[j] = mylist[i]\n",
        "            j -= 1\n",
        "\n",
        "    # Convert the list back to a string and return\n",
        "    return ''.join(mylist)\n",
        "\n",
        "# Test example\n",
        "the_string = \"Mr John Smith is good    \"\n",
        "true_length = 25\n",
        "result = replace_spaces_2(the_string, true_length)\n",
        "print(result)  # Output: \"Mr%20John%20Smith\"\n"
      ],
      "metadata": {
        "colab": {
          "base_uri": "https://localhost:8080/"
        },
        "id": "EK9FeSlAtkk8",
        "outputId": "ead4ac3e-e732-4e3c-a40a-69f629fe6258"
      },
      "execution_count": 10,
      "outputs": [
        {
          "output_type": "stream",
          "name": "stdout",
          "text": [
            "Mr%20John%20Smith%20is%20good%20%20%20%20\n"
          ]
        }
      ]
    },
    {
      "cell_type": "markdown",
      "source": [
        "Given a string, write a function to check if it is a permutation of a palin­drome. A palindrome is a word or phrase that is the same forwards and backwards. A permutation is a reaarrangememt of  letters."
      ],
      "metadata": {
        "id": "2cpCufPppLns"
      }
    },
    {
      "cell_type": "code",
      "source": [
        "text = \"HANNAH\"\n",
        "for i in range(len(text)):\n",
        "  print(f\"This print single character/ letter: {text[i]}\")\n",
        "  #print(f\" This print out the whole character in descending order: {text[::-1]}\")\n",
        "  if (text[i] == text[::-1]):\n",
        "    print(True)\n",
        "  else:\n",
        "     print(True)"
      ],
      "metadata": {
        "colab": {
          "base_uri": "https://localhost:8080/"
        },
        "id": "9OFbx1Nr6J-1",
        "outputId": "7ad57e8e-3199-43b5-c953-103dbb014c01"
      },
      "execution_count": 11,
      "outputs": [
        {
          "output_type": "stream",
          "name": "stdout",
          "text": [
            "This print single character/ letter: H\n",
            "True\n",
            "This print single character/ letter: A\n",
            "True\n",
            "This print single character/ letter: N\n",
            "True\n",
            "This print single character/ letter: N\n",
            "True\n",
            "This print single character/ letter: A\n",
            "True\n",
            "This print single character/ letter: H\n",
            "True\n"
          ]
        }
      ]
    },
    {
      "cell_type": "code",
      "source": [
        "def check_permutation_is_palindrome() -> bool:\n",
        "  mytext = input(\"enter the string: \")\n",
        "  if len(mytext) == 0:\n",
        "    return False\n",
        "\n",
        "  for char in range(len(mytext)):\n",
        "    if (char == mytext[::-1]):\n",
        "      return True\n",
        "    else:\n",
        "      return False"
      ],
      "metadata": {
        "id": "3fkcDezypKvy"
      },
      "execution_count": 12,
      "outputs": []
    },
    {
      "cell_type": "code",
      "source": [
        "check_permutation_is_palindrome()"
      ],
      "metadata": {
        "colab": {
          "base_uri": "https://localhost:8080/"
        },
        "id": "5roaL9hZDtlL",
        "outputId": "1278a8e5-3e25-476d-9760-f18aa63d1f1a"
      },
      "execution_count": 13,
      "outputs": [
        {
          "name": "stdout",
          "output_type": "stream",
          "text": [
            "enter the string: madam\n"
          ]
        },
        {
          "output_type": "execute_result",
          "data": {
            "text/plain": [
              "False"
            ]
          },
          "metadata": {},
          "execution_count": 13
        }
      ]
    },
    {
      "cell_type": "code",
      "source": [
        "from collections import Counter\n",
        "\n",
        "def is_permutation_of_palindrome(s):\n",
        "    #ignore spaces and lowercase everything\n",
        "    s = s.replace(\" \", \"\").lower()\n",
        "\n",
        "    # Count character frequencies\n",
        "    char_count = Counter(s)\n",
        "\n",
        "    # Count the number of characters with odd frequencies\n",
        "    odd_count = 0\n",
        "    for count in char_count.values():\n",
        "        if count % 2 != 0:\n",
        "            odd_count += 1\n",
        "\n",
        "    # A palindrome can have at most one odd character count\n",
        "    return odd_count <= 1\n"
      ],
      "metadata": {
        "id": "X1vHXtqzpKtN"
      },
      "execution_count": 14,
      "outputs": []
    },
    {
      "cell_type": "markdown",
      "source": [
        "Time complexity\n",
        "Counting character frequencies:\n",
        "𝑂\n",
        "(\n",
        "𝑛\n",
        ")\n",
        "O(n), where\n",
        "𝑛\n",
        "n is the length of the string.\n",
        "Counting odd frequencies:\n",
        "𝑂\n",
        "(\n",
        "𝑘\n",
        ")\n",
        "O(k), where\n",
        "𝑘\n",
        "k is the number of distinct characters (which is constant and limited by the alphabet size).\n",
        "Thus, the overall time complexity is\n",
        "𝑂\n",
        "(\n",
        "𝑛\n",
        ")\n",
        "O(n).\n",
        "\n",
        "\n",
        "Space complexity\n",
        "\n",
        "The space complexity is\n",
        "𝑂\n",
        "(\n",
        "𝑘\n",
        ")\n",
        "O(k), where\n",
        "𝑘\n",
        "k is the number of distinct characters (since we are storing the character counts in a dictionary or Counter). In the worst case, this could be\n",
        "𝑂\n",
        "(\n",
        "1\n",
        ")\n",
        "O(1), assuming a fixed alphabet."
      ],
      "metadata": {
        "id": "hrgEh7oaEdue"
      }
    },
    {
      "cell_type": "code",
      "source": [
        "def is_permutation_of_palindrome(s):\n",
        "    s = s.replace(\" \", \"\").lower()\n",
        "    odd_chars = set()\n",
        "\n",
        "    for char in s:\n",
        "        if char in odd_chars:\n",
        "            odd_chars.remove(char)\n",
        "        else:\n",
        "            odd_chars.add(char)\n",
        "\n",
        "    # A palindrome can have at most one odd character\n",
        "    return len(odd_chars) <= 1\n"
      ],
      "metadata": {
        "id": "l79EfpFipKiP"
      },
      "execution_count": 15,
      "outputs": []
    },
    {
      "cell_type": "code",
      "source": [
        "text = \"taco cat\"\n",
        "is_permutation_of_palindrome(text)"
      ],
      "metadata": {
        "id": "bFbX5E_8FHaJ",
        "colab": {
          "base_uri": "https://localhost:8080/"
        },
        "outputId": "18931c6d-17c5-4108-d99a-d2ce626186bf"
      },
      "execution_count": 16,
      "outputs": [
        {
          "output_type": "execute_result",
          "data": {
            "text/plain": [
              "True"
            ]
          },
          "metadata": {},
          "execution_count": 16
        }
      ]
    },
    {
      "cell_type": "markdown",
      "source": [
        "what is the time complexity, and space and how can i imporive the time and spacfe complexity?\n",
        "\n",
        "what are the different edges cases and use cases or input validation to check?"
      ],
      "metadata": {
        "id": "PYP6zyQv9Kvp"
      }
    },
    {
      "cell_type": "code",
      "source": [
        "def one_edit_away(s1, s2):\n",
        "                                                  # Length difference is more than 1, return False\n",
        "    if abs(len(s1) - len(s2)) > 1:\n",
        "        return False\n",
        "\n",
        "                                                  # Determine which case we are in: replace, insert, or remove\n",
        "    if len(s1) == len(s2):\n",
        "                                                # Check if strings differ by at most one replacement\n",
        "        return one_edit_replace(s1, s2)\n",
        "    elif len(s1) + 1 == len(s2):\n",
        "                                                  # Check if we can insert a character into s1 to make it s2\n",
        "        return one_edit_insert(s1, s2)\n",
        "    elif len(s1) - 1 == len(s2):\n",
        "                                                      # Check if we can insert a character into s2 to make it s1\n",
        "        return one_edit_insert(s2, s1)\n",
        "\n",
        "    # If length difference is more than 1\n",
        "    return False\n",
        "\n",
        "def one_edit_replace(s1, s2):\n",
        "    found_difference = False\n",
        "    for i in range(len(s1)):\n",
        "        if s1[i] != s2[i]:\n",
        "            if found_difference:\n",
        "                return False                                  # Already found a difference\n",
        "            found_difference = True\n",
        "    return True\n",
        "\n",
        "def one_edit_insert(s1, s2):\n",
        "    # s1 is the shorter string, s2 is the longer string\n",
        "    i, j = 0, 0\n",
        "    while i < len(s1) and j < len(s2):\n",
        "        if s1[i] != s2[j]:\n",
        "            if i != j:\n",
        "                return False\n",
        "            j += 1  # Move pointer of longer string\n",
        "        else:\n",
        "            i += 1\n",
        "            j += 1\n",
        "    return True\n"
      ],
      "metadata": {
        "id": "NN6TrN7sdD01"
      },
      "execution_count": 17,
      "outputs": []
    },
    {
      "cell_type": "code",
      "source": [
        "s1 = \"madam\"\n",
        "s2 = \"shorter\"\n",
        "one_edit_away(s1, s2)"
      ],
      "metadata": {
        "colab": {
          "base_uri": "https://localhost:8080/"
        },
        "id": "yjokcfXFdW_I",
        "outputId": "b02d448b-c752-4e4e-a12a-f7ca05cc18f3"
      },
      "execution_count": 18,
      "outputs": [
        {
          "output_type": "execute_result",
          "data": {
            "text/plain": [
              "False"
            ]
          },
          "metadata": {},
          "execution_count": 18
        }
      ]
    },
    {
      "cell_type": "code",
      "source": [
        "def compress_string(s: str) -> str:\n",
        "    if not s:                         # Return empty string if the input is empty\n",
        "        return s\n",
        "\n",
        "    compressed = []             # List to hold the compressed parts\n",
        "    count = 1                 # Counter for repeated characters\n",
        "\n",
        "    # Traverse the string\n",
        "    for i in range(1, len(s)):\n",
        "        if s[i] == s[i - 1]:      # Check if the current char is the same as the previous one\n",
        "            count += 1            # Increment the count\n",
        "        else:\n",
        "            # Append the character and its count to the list\n",
        "            compressed.append(s[i - 1])           # Append the previous character\n",
        "            compressed.append(str(count))           # Append the count of the previous character\n",
        "            count = 1                               # Reset count for the new character\n",
        "\n",
        "    # Append the last character and its count\n",
        "    compressed.append(s[-1])\n",
        "    compressed.append(str(count))\n",
        "\n",
        "    # Join the list to form the compressed string\n",
        "    compressed_string = ''.join(compressed)\n",
        "\n",
        "    # Return the compressed string or the original string\n",
        "    return compressed_string if len(compressed_string) < len(s) else s\n"
      ],
      "metadata": {
        "id": "DPq7eNRspiSt"
      },
      "execution_count": 19,
      "outputs": []
    },
    {
      "cell_type": "code",
      "source": [
        "result = compress_string(\"aabcccccaaa\")\n",
        "print(result)"
      ],
      "metadata": {
        "colab": {
          "base_uri": "https://localhost:8080/"
        },
        "id": "x3MGQQxLpiJY",
        "outputId": "916b7036-cb4d-4e76-af9b-11439aa10131"
      },
      "execution_count": 20,
      "outputs": [
        {
          "output_type": "stream",
          "name": "stdout",
          "text": [
            "a2b1c5a3\n"
          ]
        }
      ]
    },
    {
      "cell_type": "markdown",
      "source": [
        "range create  an immutable sequence of numbers \\\\\n",
        "range(stop) == 1- 10 \\\\\n",
        "range(start, stop) == 1, 12 == 1-11 \\\\\n",
        "range(start, stop, step) = 1, 15, 2 == 1, 3, 5, 7,9, 11, 13.\n",
        "\n",
        "The error TypeError: object of type 'int' has no len() means that you tried to use the len() function on an integer (int), which is not allowed.\n",
        "\n",
        "Explanation:\n",
        "The len() function is used to determine the length of a sequence or collection (e.g., strings, lists, tuples, dictionaries, etc.).\n",
        "However, an int (integer) is a single number, and numbers don't have a length. That’s why Python raises this error when you try to apply len() to an integer.\n",
        "\n",
        "Solution is to convert the int, into another dtype to be able to get the len.\n",
        "\n",
        "You can get the len of an integer, cos it is a scalar or single number.\n",
        "\n",
        "other dtypes we can store in a list, and convert them to different type:\n",
        "\n",
        "Python lists can store any combination of data types, including numbers, strings, booleans, lists, tuples, dictionaries, sets, custom objects, functions, and more.\n",
        "\n",
        "The join Method in string\n",
        "\n",
        "Yes, the difference in how you join a list into a string depends on the separator you use in the join() method. If you use an empty string ('') as the separator, the list elements will be joined without spaces. If you use a space (' '), the elements will be joined with a space between them."
      ],
      "metadata": {
        "id": "EvEhM6bAuSOz"
      }
    },
    {
      "cell_type": "code",
      "source": [
        "n = 1555      # will flag an error cos len is use for other dtype except int.\n",
        "for i in range(1, len(n)):\n",
        "  print(i)\n",
        "\n"
      ],
      "metadata": {
        "colab": {
          "base_uri": "https://localhost:8080/"
        },
        "id": "xB0rhTINuB53",
        "outputId": "065f3c60-f127-43a1-c438-46d75dc88990"
      },
      "execution_count": 44,
      "outputs": [
        {
          "output_type": "stream",
          "name": "stdout",
          "text": [
            "1\n",
            "2\n",
            "3\n"
          ]
        }
      ]
    },
    {
      "cell_type": "code",
      "source": [
        "from typing import List\n",
        "\n",
        "def compress_string(text: str) -> str:\n",
        "  \"\"\"we are to compress the string and return the frequency of repeated character as a string\"\"\"\n",
        "  if len(text) <= 1:        # edge case\n",
        "    return text\n",
        "\n",
        "  storage: List = []\n",
        "  count = 1\n",
        "\n",
        "\n",
        "  for i in range(1, len(text)):\n",
        "    if text[i] == text[i-1]:\n",
        "      count += 1\n",
        "    else:\n",
        "      storage.append(text[i-1] + str(count))  # iterate through the string and count consective characters\n",
        "      count = 1               # Reset the count for the new character\n",
        "  storage.append(text[-1] + str(count))     # Append the last character and its count\n",
        "\n",
        "  # we join the list into a string\n",
        "  compressed_string = ''.join(storage)\n",
        "  # # Return the compressed string only if it's shorter than the original\n",
        "  return compressed_string if len(compressed_string) < len(text) else text\n",
        "\n",
        "\n",
        "\n",
        "\n",
        "#space complexity =\n",
        "#Time complexity =\n",
        "# How can we optimize the time and space complexity?"
      ],
      "metadata": {
        "id": "FRjsctC4sgy2"
      },
      "execution_count": 54,
      "outputs": []
    },
    {
      "cell_type": "markdown",
      "source": [
        "Time Complexity:\n",
        "𝑂\n",
        "(\n",
        "𝑛\n",
        ")\n",
        "O(n), where\n",
        "𝑛\n",
        "n is the length of the input string. We loop through the string once and perform constant-time operations (appending to a list, joining the list).\n",
        "\n",
        "Space Complexity:\n",
        "𝑂\n",
        "(\n",
        "𝑛\n",
        ")\n",
        "O(n), since we store the compressed string in a list, which could be up to the size of the original string. We also need space to store the final string after joining."
      ],
      "metadata": {
        "id": "X-IYNYK60zmC"
      }
    },
    {
      "cell_type": "code",
      "source": [
        "storage = compress_string(\"aabcccccaa\")\n",
        "print(storage)"
      ],
      "metadata": {
        "colab": {
          "base_uri": "https://localhost:8080/"
        },
        "id": "3ZOPmvOn9yGm",
        "outputId": "46481493-978f-4594-b6c8-1e49a362e1c2"
      },
      "execution_count": 56,
      "outputs": [
        {
          "output_type": "stream",
          "name": "stdout",
          "text": [
            "aab\n"
          ]
        }
      ]
    },
    {
      "cell_type": "markdown",
      "source": [
        "Advanced Engineering Mathematics\n",
        "\n",
        "Question\n",
        "\n",
        "Given an image represented by an NxN matrix, where each pixel in the image is 4\n",
        "bytes, write a method to rotate the image by 90 degrees. Can you do this in place.\n",
        "\n",
        "***Notes***\n",
        "\n",
        "Imagine this, a video consist of a sequence of images called frames. An image is a matrix with pixel values ranging from 0-255. The matrix or tensor is a multidimensional array( which is a list of a list of list).*\n",
        "\n",
        "An image with pixel values that are 4 bytes typically refers to images using the RGBA color model, which stands for Red, Green, Blue, and Alpha. In this representation, each pixel is described by four components:\n",
        "\n",
        "Red (R): 1 byte (0-255)\n",
        "Green (G): 1 byte (0-255)\n",
        "Blue (B): 1 byte (0-255)\n",
        "Alpha (A): 1 byte (0-255)\n",
        "Breakdown of Pixel Values\n",
        "Total Size: Each component is represented by 1 byte, so a single pixel in an RGBA image consumes 4 bytes (1 byte for R + 1 byte for G + 1 byte for B + 1 byte for A).\n",
        "Value Range: Each component can have a value from 0 to 255:\n",
        "0 means no contribution of that color (fully transparent for Alpha).\n",
        "255 means full contribution of that color (fully opaque for Alpha).\n",
        "Example Representation\n",
        "A pixel with RGBA values of (255, 0, 0, 255) represents a fully opaque red pixel.\n",
        "A pixel with RGBA values of (0, 255, 0, 128) represents a semi-transparent green pixel (50% transparency).\n",
        "A pixel with RGBA values of (0, 0, 255, 0) represents a fully transparent blue pixel (invisible).\n",
        "Image Formats\n",
        "Images that often use the RGBA model and thus have 4-byte pixel values include:\n",
        "\n",
        "PNG (Portable Network Graphics): Supports RGBA and is commonly used for images requiring transparency.\n",
        "TIFF (Tagged Image File Format): Can also support RGBA along with various other color depths and channels.\n",
        "BMP (Bitmap Image File): Can have a variant that supports RGBA pixel formats.\n",
        "Size and Dimensions\n",
        "To calculate the total size of an image in bytes, you can use the formula:\n",
        "\n",
        "Total Size\n",
        "=\n",
        "Width\n",
        "×\n",
        "Height\n",
        "×\n",
        "4\n",
        "Total Size=Width×Height×4\n",
        "Where Width is the number of pixels in the horizontal direction and Height is the number of pixels in the vertical direction.\n",
        "For example, an image of 1920x1080 pixels (Full HD) would have:\n",
        "\n",
        "1920\n",
        "\n",
        "(\n",
        "Width\n",
        ")\n",
        "×\n",
        "1080\n",
        "\n",
        "(\n",
        "Height\n",
        ")\n",
        "×\n",
        "4\n",
        "\n",
        "(\n",
        "bytes per pixel\n",
        ")\n",
        "=\n",
        "8\n",
        ",\n",
        "294\n",
        ",\n",
        "400\n",
        "\n",
        "bytes\n",
        "\n",
        "(\n",
        "𝑜\n",
        "𝑟\n",
        "\n",
        "≈\n",
        "8\n",
        "\n",
        "𝑀\n",
        "𝐵\n",
        ")\n",
        "1920(Width)×1080(Height)×4(bytes per pixel)=8,294,400bytes(or≈8MB)"
      ],
      "metadata": {
        "id": "NUm4Qu83GJmK"
      }
    },
    {
      "cell_type": "markdown",
      "source": [
        "Rotating an NxN matrix (or image) by 90 degrees clockwise in place involves transforming the positions of the elements without using additional storage for another matrix\n",
        "\n",
        "Check for edge cases:\n",
        "1. if dimesnsion of matrix not same i.e N != N\n",
        "2. Matrix with empty element\n",
        "3. Matrix with one element\n",
        "4. We traverse each element in the matrix, but only the upper triangle (elements above the diagonal). This means we iterate over\n",
        "𝑛\n",
        "(\n",
        "𝑛\n",
        "−\n",
        "1\n",
        ")\n",
        "/\n",
        "2\n",
        "n(n−1)/2 elements, which is equivalent to\n",
        "𝑂\n",
        "(\n",
        "𝑁\n",
        "2\n",
        ")\n",
        "O(N\n",
        "2\n",
        " )."
      ],
      "metadata": {
        "id": "lORnAqfg2sQQ"
      }
    },
    {
      "cell_type": "code",
      "source": [
        "from typing import List\n",
        "\n",
        "def rotate_matrix(matrix: List[List[int]])-> List[List[int]]:\n",
        "  if not matrix or len(matrix) != len(matrix[0]):\n",
        "    return False\n",
        "\n",
        "  m = len(matrix)\n",
        "  for a in range(m):\n",
        "    for b in range(a + 1, m):\n",
        "\n",
        "    #swap the matrix to execute the transpose\n",
        "      temp = matrix[a][b]\n",
        "      matrix[a][b] = matrix[b][a]\n",
        "      matrix[b][a] = temp\n",
        "\n",
        "    # reverse each row aij to complete the 90-degree clockwise rotation.\n",
        "    matrix[a].reverse()\n",
        "\n",
        "  return matrix"
      ],
      "metadata": {
        "id": "96XbAemm9yCN"
      },
      "execution_count": 9,
      "outputs": []
    },
    {
      "cell_type": "code",
      "source": [
        "tensor = [[1,2,3], [6,7,8], [5,0,14]]\n",
        "#tensor = int(input(\"Enter the array: \"))\n",
        "rotated_matrix = rotate_matrix(tensor)\n",
        "print(f\"The rotated matrix is this: {rotated_matrix}\")\n",
        "\n",
        "#time complexity = 0(N**2)\n",
        "#space complexity = 0(1),since modifying the matrix in place without using extra storage, so no additional data structures are used to store a new matrix."
      ],
      "metadata": {
        "colab": {
          "base_uri": "https://localhost:8080/"
        },
        "id": "YAADZCVp9MNl",
        "outputId": "d9d14ede-6c0e-4af6-b589-2fa356290b5d"
      },
      "execution_count": 13,
      "outputs": [
        {
          "output_type": "stream",
          "name": "stdout",
          "text": [
            " The rotated matrix is this: [[5, 6, 1], [0, 7, 2], [14, 8, 3]]\n"
          ]
        }
      ]
    },
    {
      "cell_type": "code",
      "source": [
        "matrix = [[1, 2, 3], [4, 5, 6], [7, 8, 9]]\n",
        "print(len(matrix))\n",
        "print(matrix[0][1])"
      ],
      "metadata": {
        "colab": {
          "base_uri": "https://localhost:8080/"
        },
        "id": "CgAoHnA9xWYO",
        "outputId": "674cd435-fead-49fc-962e-9e231b8eaf37"
      },
      "execution_count": 7,
      "outputs": [
        {
          "output_type": "stream",
          "name": "stdout",
          "text": [
            "3\n",
            "2\n"
          ]
        }
      ]
    },
    {
      "cell_type": "markdown",
      "source": [
        "the time complexity is O(M \\times N), which is efficient for this problem. \\\\\n",
        "the space complexity is O(M + N)."
      ],
      "metadata": {
        "id": "oS0X-NoyGd-8"
      }
    },
    {
      "cell_type": "code",
      "source": [
        "def zero_array(matrix: List[List[int]]) -> List[List[int]]:\n",
        "  \"\"\"We turn all rows and columns that contain a zero to zero\n",
        "\n",
        "  args: matrix\n",
        "\n",
        "  return: matrix with zero rows and columns\n",
        "  \"\"\"\n",
        "  if not matrix or len(matrix) == 0:\n",
        "    return False\n",
        "  matrix_row = len(matrix)\n",
        "  matrix_col = len(matrix[0])\n",
        "\n",
        "  row_with_zero = set()\n",
        "  col_with_zero = set()\n",
        "  for i in range(matrix_row):\n",
        "    for j in range(matrix_col):\n",
        "      if matrix[i][j] == 0:\n",
        "        row_with_zero.add(i)\n",
        "        col_with_zero.add(j)\n",
        "\n",
        "  for row in row_with_zero:\n",
        "    for j in range(matrix_col):\n",
        "      matrix[row][j] = 0\n",
        "\n",
        "  for col in col_with_zero:\n",
        "    for i in range(matrix_row):\n",
        "      matrix[i][col] = 0"
      ],
      "metadata": {
        "id": "1v4ecV5gCiKR"
      },
      "execution_count": 14,
      "outputs": []
    },
    {
      "cell_type": "code",
      "source": [
        "matrix = [\n",
        "    [5, 6, 1],\n",
        "    [2, 7, 0],\n",
        "    [8, 14, 3]\n",
        "]\n",
        "\n",
        "print(\"Original Matrix:\")\n",
        "for row in matrix:\n",
        "    print(row)\n",
        "\n",
        "zero_array(matrix)\n",
        "\n",
        "print(\"\\nMatrix After Zeroing:\")\n",
        "for row in matrix:\n",
        "    print(row)"
      ],
      "metadata": {
        "colab": {
          "base_uri": "https://localhost:8080/"
        },
        "id": "lRTX-6qMF0x4",
        "outputId": "ae1a9747-6e29-4e96-f0e3-da9a658dd996"
      },
      "execution_count": 16,
      "outputs": [
        {
          "output_type": "stream",
          "name": "stdout",
          "text": [
            "Original Matrix:\n",
            "[5, 6, 1]\n",
            "[2, 7, 0]\n",
            "[8, 14, 3]\n",
            "\n",
            "Matrix After Zeroing:\n",
            "[5, 6, 0]\n",
            "[0, 0, 0]\n",
            "[8, 14, 0]\n"
          ]
        }
      ]
    },
    {
      "cell_type": "code",
      "source": [
        "def isSubstring(string1: str, string2: str)-> bool:\n",
        "  \"\"\"check substring of a string\n",
        "\n",
        "  Args: two strings to compare\n",
        "\n",
        "  returns:\n",
        "  \"\"\"\n",
        "  if not string1 or not string2:\n",
        "    return False\n",
        "  string2[::-1]"
      ],
      "metadata": {
        "id": "escMxVFVCiED"
      },
      "execution_count": null,
      "outputs": []
    },
    {
      "cell_type": "code",
      "source": [
        "def isSubstring(s1, s2):\n",
        "    # You can use the \"in\" keyword to check if s2 is a substring of s1 in Python\n",
        "    return s2 in s1\n",
        "\n",
        "def is_rotation(s1, s2):\n",
        "    # Step 1: Check if s1 and s2 have the same length and are non-empty\n",
        "    if len(s1) == len(s2) and len(s1) > 0:\n",
        "        # Step 2: Concatenate s1 with itself\n",
        "        concatenated_string = s1 + s1\n",
        "\n",
        "        # Step 3: Check if s2 is a substring of the concatenated string\n",
        "        return isSubstring(concatenated_string, s2)\n",
        "\n",
        "    # If lengths are not the same, or strings are empty, return False\n",
        "    return False\n",
        "\n",
        "# Example Usage:\n",
        "s1 = \"waterbottle\"\n",
        "s2 = \"erbottlewat\"\n",
        "\n",
        "if is_rotation(s1, s2):\n",
        "    print(f\"{s2} is a rotation of {s1}\")\n",
        "else:\n",
        "    print(f\"{s2} is not a rotation of {s1}\")\n",
        "\n",
        "#time and space complexity = 0(n)"
      ],
      "metadata": {
        "colab": {
          "base_uri": "https://localhost:8080/"
        },
        "id": "EyhnoPj-Jx98",
        "outputId": "399b1788-c0ab-4f35-f07d-4027c82d2e85"
      },
      "execution_count": 17,
      "outputs": [
        {
          "output_type": "stream",
          "name": "stdout",
          "text": [
            "erbottlewat is a rotation of waterbottle\n"
          ]
        }
      ]
    }
  ]
}
